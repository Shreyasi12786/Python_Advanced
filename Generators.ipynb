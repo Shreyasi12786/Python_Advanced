{
 "cells": [
  {
   "cell_type": "markdown",
   "id": "725bd8a6-7fc1-44d4-a419-49612175bede",
   "metadata": {},
   "source": [
    "GENERATORS\n",
    "> way to create iterators\n",
    "> use yield keyword\n",
    "> uses lazy loading - they generate on the fly do not store in the memory"
   ]
  },
  {
   "cell_type": "code",
   "execution_count": null,
   "id": "fd61bfe6-97b0-4088-9ad1-f5a26b478602",
   "metadata": {},
   "outputs": [],
   "source": []
  }
 ],
 "metadata": {
  "kernelspec": {
   "display_name": "Python 3 (ipykernel)",
   "language": "python",
   "name": "python3"
  },
  "language_info": {
   "codemirror_mode": {
    "name": "ipython",
    "version": 3
   },
   "file_extension": ".py",
   "mimetype": "text/x-python",
   "name": "python",
   "nbconvert_exporter": "python",
   "pygments_lexer": "ipython3",
   "version": "3.10.10"
  }
 },
 "nbformat": 4,
 "nbformat_minor": 5
}
