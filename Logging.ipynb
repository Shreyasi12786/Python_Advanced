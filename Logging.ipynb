{
 "cells": [
  {
   "cell_type": "markdown",
   "id": "e8c82dd8-d077-4f52-9e2c-b980ab6d9408",
   "metadata": {},
   "source": [
    "#LOGGING IN PYTHON \n",
    "1. Tracks events , errors and op performance.\n",
    "2. Built in Logging module\n"
   ]
  },
  {
   "cell_type": "code",
   "execution_count": 1,
   "id": "41f2b43e-9b22-45e4-8216-07672d7b9f0e",
   "metadata": {},
   "outputs": [],
   "source": [
    "# import module\n",
    "import logging\n"
   ]
  },
  {
   "cell_type": "code",
   "execution_count": 2,
   "id": "92192f30-94c4-47ea-a1b0-4311bbad3171",
   "metadata": {},
   "outputs": [],
   "source": [
    "# # Configure Basic Logging Settings\n",
    "\n",
    "# logging.basicConfig(level = logging.DEBUG)\n",
    "# # We have other levels as well like Error, DEBUG, INFO, WARNING, CRITICAL.\n",
    "\n",
    "# ## Log Messages\n",
    "# logging.debug(\"This is a debug message\")\n",
    "# logging.info(\"This is a info message\")\n",
    "# logging.warning(\"This is a warning message\")\n",
    "# logging.error(\"This is and error message\")\n",
    "# logging.critical(\"This is a critical message\")\n"
   ]
  },
  {
   "cell_type": "code",
   "execution_count": 3,
   "id": "7e94cb1f-143f-4165-a3f2-74e327503d68",
   "metadata": {},
   "outputs": [],
   "source": [
    "# Configure Logging\n",
    "logging.basicConfig(\n",
    "    filename='app.log',\n",
    "    filemode='w',\n",
    "    level = logging.DEBUG,\n",
    "    format = '%(asctime)s-%(name)s-%(levelname)s-%(message)s',\n",
    "    datefmt ='%Y-%m-%d %H:%M:%S'\n",
    ")\n",
    "\n",
    "## Log Messages\n",
    "logging.debug(\"This is a debug message\")\n",
    "logging.info(\"This is a info message\")\n",
    "logging.warning(\"This is a warning message\")\n",
    "logging.error(\"This is and error message\")\n",
    "logging.critical(\"This is a critical message\")\n",
    "\n"
   ]
  },
  {
   "cell_type": "code",
   "execution_count": null,
   "id": "51137ee1-2647-40ad-b78b-d9490876b489",
   "metadata": {},
   "outputs": [],
   "source": []
  }
 ],
 "metadata": {
  "kernelspec": {
   "display_name": "Python 3 (ipykernel)",
   "language": "python",
   "name": "python3"
  },
  "language_info": {
   "codemirror_mode": {
    "name": "ipython",
    "version": 3
   },
   "file_extension": ".py",
   "mimetype": "text/x-python",
   "name": "python",
   "nbconvert_exporter": "python",
   "pygments_lexer": "ipython3",
   "version": "3.10.10"
  }
 },
 "nbformat": 4,
 "nbformat_minor": 5
}
