{
 "cells": [
  {
   "cell_type": "markdown",
   "id": "56d4ada5-3e81-4ad4-a404-248efca64660",
   "metadata": {},
   "source": [
    "# Multithreading for IO bound tasks\n",
    "Use case : Web Scraping\n",
    "\n",
    "https://python.langchain.com/docs/introduction/\n",
    "https://docs.smith.langchain.com/\n",
    "https://langchain-ai.github.io/langgraph/concepts/why-langgraph/"
   ]
  },
  {
   "cell_type": "code",
   "execution_count": 2,
   "id": "17ef9931-331a-4bf6-889f-7c7967290e84",
   "metadata": {},
   "outputs": [
    {
     "name": "stdout",
     "output_type": "stream",
     "text": [
      "Looking in indexes: https://artifactory.airbus.corp/artifactory/api/pypi/r-airbus-pypi-virtual/simple\n",
      "Collecting bs4\n",
      "  Downloading https://artifactory.airbus.corp/artifactory/api/pypi/r-airbus-pypi-virtual/packages/packages/51/bb/bf7aab772a159614954d84aa832c129624ba6c32faa559dfb200a534e50b/bs4-0.0.2-py2.py3-none-any.whl (1.2 kB)\n",
      "Requirement already satisfied: beautifulsoup4 in c:\\users\\spanbagv\\appdata\\local\\miniforge3\\lib\\site-packages (from bs4) (4.13.4)\n",
      "Requirement already satisfied: soupsieve>1.2 in c:\\users\\spanbagv\\appdata\\local\\miniforge3\\lib\\site-packages (from beautifulsoup4->bs4) (2.7)\n",
      "Requirement already satisfied: typing-extensions>=4.0.0 in c:\\users\\spanbagv\\appdata\\local\\miniforge3\\lib\\site-packages (from beautifulsoup4->bs4) (4.12.2)\n",
      "Installing collected packages: bs4\n",
      "Successfully installed bs4-0.0.2\n"
     ]
    }
   ],
   "source": [
    "!pip install bs4 \n"
   ]
  },
  {
   "cell_type": "code",
   "execution_count": 5,
   "id": "e9d3a117-14f0-4c65-a9f5-28d5213358c7",
   "metadata": {},
   "outputs": [],
   "source": [
    "import threading \n",
    "import bs4\n",
    "import requests"
   ]
  },
  {
   "cell_type": "code",
   "execution_count": 6,
   "id": "cafe77aa-6e59-4e0b-ae69-a8644894c23b",
   "metadata": {},
   "outputs": [],
   "source": [
    "from bs4 import BeautifulSoup\n"
   ]
  },
  {
   "cell_type": "code",
   "execution_count": 16,
   "id": "24f6e5ea-c6bd-4bad-93fd-3ba2a082a66b",
   "metadata": {},
   "outputs": [],
   "source": [
    "urls = [\n",
    "   \n",
    "    \"https://www.example.com\",\n",
    "   \n",
    "    \n",
    "]"
   ]
  },
  {
   "cell_type": "code",
   "execution_count": 17,
   "id": "4a9cb329-92b5-4217-be7a-a501a0ce136f",
   "metadata": {},
   "outputs": [
    {
     "name": "stderr",
     "output_type": "stream",
     "text": [
      "Exception in thread Thread-20 (fetch_contents):\n",
      "Traceback (most recent call last):\n",
      "  File \"C:\\Users\\SPANBAGV\\AppData\\Local\\miniforge3\\lib\\site-packages\\urllib3\\connectionpool.py\", line 703, in urlopen\n",
      "    httplib_response = self._make_request(\n",
      "  File \"C:\\Users\\SPANBAGV\\AppData\\Local\\miniforge3\\lib\\site-packages\\urllib3\\connectionpool.py\", line 386, in _make_request\n",
      "    self._validate_conn(conn)\n",
      "  File \"C:\\Users\\SPANBAGV\\AppData\\Local\\miniforge3\\lib\\site-packages\\urllib3\\connectionpool.py\", line 1042, in _validate_conn\n",
      "    conn.connect()\n",
      "  File \"C:\\Users\\SPANBAGV\\AppData\\Local\\miniforge3\\lib\\site-packages\\urllib3\\connection.py\", line 419, in connect\n",
      "    self.sock = ssl_wrap_socket(\n",
      "  File \"C:\\Users\\SPANBAGV\\AppData\\Local\\miniforge3\\lib\\site-packages\\urllib3\\util\\ssl_.py\", line 449, in ssl_wrap_socket\n",
      "    ssl_sock = _ssl_wrap_socket_impl(\n",
      "  File \"C:\\Users\\SPANBAGV\\AppData\\Local\\miniforge3\\lib\\site-packages\\urllib3\\util\\ssl_.py\", line 493, in _ssl_wrap_socket_impl\n",
      "    return ssl_context.wrap_socket(sock, server_hostname=server_hostname)\n",
      "  File \"C:\\Users\\SPANBAGV\\AppData\\Local\\miniforge3\\lib\\ssl.py\", line 513, in wrap_socket\n",
      "    return self.sslsocket_class._create(\n",
      "  File \"C:\\Users\\SPANBAGV\\AppData\\Local\\miniforge3\\lib\\ssl.py\", line 1071, in _create\n",
      "    self.do_handshake()\n",
      "  File \"C:\\Users\\SPANBAGV\\AppData\\Local\\miniforge3\\lib\\ssl.py\", line 1342, in do_handshake\n",
      "    self._sslobj.do_handshake()\n",
      "ssl.SSLCertVerificationError: [SSL: CERTIFICATE_VERIFY_FAILED] certificate verify failed: self-signed certificate in certificate chain (_ssl.c:997)\n",
      "\n",
      "During handling of the above exception, another exception occurred:\n",
      "\n",
      "Traceback (most recent call last):\n",
      "  File \"C:\\Users\\SPANBAGV\\AppData\\Local\\miniforge3\\lib\\site-packages\\requests\\adapters.py\", line 667, in send\n",
      "    resp = conn.urlopen(\n",
      "  File \"C:\\Users\\SPANBAGV\\AppData\\Local\\miniforge3\\lib\\site-packages\\urllib3\\connectionpool.py\", line 787, in urlopen\n",
      "    retries = retries.increment(\n",
      "  File \"C:\\Users\\SPANBAGV\\AppData\\Local\\miniforge3\\lib\\site-packages\\urllib3\\util\\retry.py\", line 592, in increment\n",
      "    raise MaxRetryError(_pool, url, error or ResponseError(cause))\n",
      "urllib3.exceptions.MaxRetryError: HTTPSConnectionPool(host='www.example.com', port=443): Max retries exceeded with url: / (Caused by SSLError(SSLCertVerificationError(1, '[SSL: CERTIFICATE_VERIFY_FAILED] certificate verify failed: self-signed certificate in certificate chain (_ssl.c:997)')))\n",
      "\n",
      "During handling of the above exception, another exception occurred:\n",
      "\n",
      "Traceback (most recent call last):\n",
      "  File \"C:\\Users\\SPANBAGV\\AppData\\Local\\miniforge3\\lib\\threading.py\", line 1016, in _bootstrap_inner\n",
      "    self.run()\n",
      "  File \"C:\\Users\\SPANBAGV\\AppData\\Local\\miniforge3\\lib\\site-packages\\ipykernel\\ipkernel.py\", line 766, in run_closure\n",
      "    _threading_Thread_run(self)\n",
      "  File \"C:\\Users\\SPANBAGV\\AppData\\Local\\miniforge3\\lib\\threading.py\", line 953, in run\n",
      "    self._target(*self._args, **self._kwargs)\n",
      "  File \"C:\\Temp\\ipykernel_9740\\1496179945.py\", line 2, in fetch_contents\n",
      "  File \"C:\\Users\\SPANBAGV\\AppData\\Local\\miniforge3\\lib\\site-packages\\requests\\api.py\", line 73, in get\n",
      "    return request(\"get\", url, params=params, **kwargs)\n",
      "  File \"C:\\Users\\SPANBAGV\\AppData\\Local\\miniforge3\\lib\\site-packages\\requests\\api.py\", line 59, in request\n",
      "    return session.request(method=method, url=url, **kwargs)\n",
      "  File \"C:\\Users\\SPANBAGV\\AppData\\Local\\miniforge3\\lib\\site-packages\\requests\\sessions.py\", line 589, in request\n",
      "    resp = self.send(prep, **send_kwargs)\n",
      "  File \"C:\\Users\\SPANBAGV\\AppData\\Local\\miniforge3\\lib\\site-packages\\requests\\sessions.py\", line 703, in send\n",
      "    r = adapter.send(request, **kwargs)\n",
      "  File \"C:\\Users\\SPANBAGV\\AppData\\Local\\miniforge3\\lib\\site-packages\\requests\\adapters.py\", line 698, in send\n",
      "    raise SSLError(e, request=request)\n",
      "requests.exceptions.SSLError: HTTPSConnectionPool(host='www.example.com', port=443): Max retries exceeded with url: / (Caused by SSLError(SSLCertVerificationError(1, '[SSL: CERTIFICATE_VERIFY_FAILED] certificate verify failed: self-signed certificate in certificate chain (_ssl.c:997)')))\n"
     ]
    },
    {
     "name": "stdout",
     "output_type": "stream",
     "text": [
      "All web pages fetched\n"
     ]
    }
   ],
   "source": [
    "def fetch_contents(url):\n",
    "    response = requests.get(url)\n",
    "    soup = BeautifulSoup(response.content,'html.parser')\n",
    "    print(f'Fetched : {len(soup.text)} characters from {url} ')\n",
    "\n",
    "threads = []\n",
    "\n",
    "\n",
    "for url in urls:\n",
    "    thread = threading.Thread(target =fetch_contents,args=(url,))\n",
    "    threads.append(thread)\n",
    "    thread.start()\n",
    "\n",
    "for thread in threads:\n",
    "    thread.join()\n",
    "\n",
    "print(\"All web pages fetched\")\n",
    "\n",
    "    "
   ]
  },
  {
   "cell_type": "code",
   "execution_count": null,
   "id": "ccdc6679-c350-4f6d-a61f-e16c9a11b30c",
   "metadata": {},
   "outputs": [],
   "source": []
  }
 ],
 "metadata": {
  "kernelspec": {
   "display_name": "Python 3 (ipykernel)",
   "language": "python",
   "name": "python3"
  },
  "language_info": {
   "codemirror_mode": {
    "name": "ipython",
    "version": 3
   },
   "file_extension": ".py",
   "mimetype": "text/x-python",
   "name": "python",
   "nbconvert_exporter": "python",
   "pygments_lexer": "ipython3",
   "version": "3.10.10"
  }
 },
 "nbformat": 4,
 "nbformat_minor": 5
}
