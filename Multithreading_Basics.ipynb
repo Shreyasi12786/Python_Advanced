{
 "cells": [
  {
   "cell_type": "markdown",
   "id": "e35d6550-8185-41e7-b8ff-9d285b46c848",
   "metadata": {},
   "source": [
    "# MULTITHREADING PRACTICAL IMPLEMENTATION \n",
    "When to use Multithreading?\n",
    "\n",
    ">> I/O bound tasks - Tasks that spends more time executing I/O operations(File operations etc)\n",
    ">>Concurrent Execution \n"
   ]
  },
  {
   "cell_type": "code",
   "execution_count": 1,
   "id": "a1782610-ccf3-42c6-aea4-7b4374a15f57",
   "metadata": {},
   "outputs": [],
   "source": [
    "import threading\n",
    "import time\n"
   ]
  },
  {
   "cell_type": "code",
   "execution_count": 7,
   "id": "209b0033-7255-49c2-971a-2cdb5f829458",
   "metadata": {},
   "outputs": [
    {
     "name": "stdout",
     "output_type": "stream",
     "text": [
      "Letters : aNumber:0\n",
      "\n",
      "Number:1Letters : b\n",
      "\n",
      "Letters : cNumber:2\n",
      "\n",
      "Letters : dNumber:3\n",
      "\n",
      "Letters : eNumber:4\n",
      "\n",
      "10.054944515228271\n"
     ]
    }
   ],
   "source": [
    "def print_numbers():\n",
    "    for i in range(5):\n",
    "        time.sleep(2)\n",
    "        print(f\"Number:{i}\")\n",
    "\n",
    "def print_letters():\n",
    "    for letter in \"abcde\":\n",
    "        time.sleep(2)\n",
    "        print(f\"Letters : {letter}\")\n",
    "\n",
    "#create 2 threads\n",
    "t1=threading.Thread(target=print_numbers)\n",
    "t2=threading.Thread(target=print_letters)\n",
    "\n",
    "\n",
    "\n",
    "t = time.time()\n",
    "\n",
    "#start thread\n",
    "t1.start()\n",
    "t2.start()\n",
    "\n",
    "# wait for threads to complete\n",
    "t1.join()\n",
    "t2.join()\n",
    "\n",
    "f_t = time.time() - t\n",
    "print(f_t)\n"
   ]
  },
  {
   "cell_type": "code",
   "execution_count": null,
   "id": "6fc9e73c-2526-4439-8c93-8f457f2b54ee",
   "metadata": {},
   "outputs": [],
   "source": []
  },
  {
   "cell_type": "code",
   "execution_count": null,
   "id": "269ced3d-f578-4e52-9573-3d2933dd30bc",
   "metadata": {},
   "outputs": [],
   "source": []
  }
 ],
 "metadata": {
  "kernelspec": {
   "display_name": "Python 3 (ipykernel)",
   "language": "python",
   "name": "python3"
  },
  "language_info": {
   "codemirror_mode": {
    "name": "ipython",
    "version": 3
   },
   "file_extension": ".py",
   "mimetype": "text/x-python",
   "name": "python",
   "nbconvert_exporter": "python",
   "pygments_lexer": "ipython3",
   "version": "3.10.10"
  }
 },
 "nbformat": 4,
 "nbformat_minor": 5
}
