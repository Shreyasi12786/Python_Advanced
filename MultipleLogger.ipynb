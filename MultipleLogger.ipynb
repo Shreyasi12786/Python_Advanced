{
 "cells": [
  {
   "cell_type": "code",
   "execution_count": 1,
   "id": "d2f70a90-28fc-43b3-b0c9-ee11f38f7f6a",
   "metadata": {},
   "outputs": [],
   "source": [
    "import logging\n"
   ]
  },
  {
   "cell_type": "code",
   "execution_count": 2,
   "id": "35c578e7-6cb6-488e-91a5-f0424d6025a6",
   "metadata": {},
   "outputs": [],
   "source": [
    "# create a logger for module 1\n",
    "logger1 = logging.getLogger('Module1')\n",
    "logger1.setLevel(logging.DEBUG)\n",
    "\n",
    "\n",
    "# create a logger for module 2\n",
    "logger2 = logging.getLogger('Module2')\n",
    "logger2.setLevel(logging.WARNING)\n",
    "\n",
    "\n"
   ]
  },
  {
   "cell_type": "code",
   "execution_count": 3,
   "id": "573e347a-c41b-4fe3-b488-fda363a36a40",
   "metadata": {},
   "outputs": [],
   "source": [
    "# Configure Logging\n",
    "logging.basicConfig(\n",
    "    level = logging.DEBUG,\n",
    "    format = '%(asctime)s-%(name)s-%(levelname)s-%(message)s',\n",
    "    datefmt ='%Y-%m-%d %H:%M:%S'\n",
    ")"
   ]
  },
  {
   "cell_type": "code",
   "execution_count": 5,
   "id": "e54d1c6c-fdba-4caf-920b-42f94ba7ef44",
   "metadata": {},
   "outputs": [
    {
     "name": "stderr",
     "output_type": "stream",
     "text": [
      "2025-07-08 10:23:31-Module1-DEBUG-This is a debug message\n",
      "2025-07-08 10:23:31-Module2-WARNING-This is a warning message\n"
     ]
    }
   ],
   "source": [
    "logger1.debug(\"This is a debug message\")\n",
    "logger2.warning(\"This is a warning message\")\n"
   ]
  },
  {
   "cell_type": "code",
   "execution_count": null,
   "id": "e695b835-fbce-49da-bc8a-af81c07860a9",
   "metadata": {},
   "outputs": [],
   "source": []
  }
 ],
 "metadata": {
  "kernelspec": {
   "display_name": "Python 3 (ipykernel)",
   "language": "python",
   "name": "python3"
  },
  "language_info": {
   "codemirror_mode": {
    "name": "ipython",
    "version": 3
   },
   "file_extension": ".py",
   "mimetype": "text/x-python",
   "name": "python",
   "nbconvert_exporter": "python",
   "pygments_lexer": "ipython3",
   "version": "3.10.10"
  }
 },
 "nbformat": 4,
 "nbformat_minor": 5
}
