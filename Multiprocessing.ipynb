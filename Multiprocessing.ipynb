{
 "cells": [
  {
   "cell_type": "code",
   "execution_count": 3,
   "id": "e05050dc-998f-40c5-8a1d-eaf197ca141a",
   "metadata": {},
   "outputs": [
    {
     "name": "stdout",
     "output_type": "stream",
     "text": [
      "0.41533327102661133\n"
     ]
    }
   ],
   "source": [
    "import multiprocessing\n",
    "import time\n",
    "\n",
    "def square_numbers():\n",
    "    for i in range(5):\n",
    "        time.sleep(1)\n",
    "        print(f\"Square :{i*i}\")\n",
    "\n",
    "def cube_numbers():\n",
    "    for i in range(5):\n",
    "        time.sleep(1.5)\n",
    "        print(f\"Cube :{i*i*i}\")\n",
    "\n",
    "if __name__ == \"__main__\":\n",
    "    #Create two processes\n",
    "    p1 = multiprocessing.Process(target = square_numbers)\n",
    "    p2 = multiprocessing.Process(target = cube_numbers)\n",
    "    \n",
    "    t = time.time()\n",
    "    #start the process\n",
    "    p1.start()\n",
    "    p2.start()\n",
    "    \n",
    "    # to join the main process\n",
    "    p1.join()\n",
    "    p2.join()\n",
    "    \n",
    "    f_t = time.time() - t\n",
    "    print(f_t)\n",
    "\n"
   ]
  },
  {
   "cell_type": "code",
   "execution_count": null,
   "id": "30355e2d-20da-4ff3-b3f8-6cb9f7240be4",
   "metadata": {},
   "outputs": [],
   "source": [
    "from concurrent.futures import ThreadPoolExecutor\n",
    "\n",
    "def print_number():\n",
    "    time.sleep(1)\n",
    "    print(number)"
   ]
  }
 ],
 "metadata": {
  "kernelspec": {
   "display_name": "Python 3 (ipykernel)",
   "language": "python",
   "name": "python3"
  },
  "language_info": {
   "codemirror_mode": {
    "name": "ipython",
    "version": 3
   },
   "file_extension": ".py",
   "mimetype": "text/x-python",
   "name": "python",
   "nbconvert_exporter": "python",
   "pygments_lexer": "ipython3",
   "version": "3.10.10"
  }
 },
 "nbformat": 4,
 "nbformat_minor": 5
}
