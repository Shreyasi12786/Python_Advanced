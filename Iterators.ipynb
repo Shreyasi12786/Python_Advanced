{
 "cells": [
  {
   "cell_type": "markdown",
   "id": "b625f068-1358-42b7-a683-b5b44a4ad85c",
   "metadata": {},
   "source": [
    "ITERATORS\n",
    "> advance of looping through collections"
   ]
  },
  {
   "cell_type": "code",
   "execution_count": 1,
   "id": "5ec60a6e-6d77-4a2f-9b73-18ed6d5e578e",
   "metadata": {},
   "outputs": [
    {
     "name": "stdout",
     "output_type": "stream",
     "text": [
      "1\n",
      "2\n",
      "3\n"
     ]
    }
   ],
   "source": [
    "l1 = [1,2,3]\n",
    "#Traditional way of looping\n",
    "for i in l1:\n",
    "    print(i)\n",
    "    "
   ]
  },
  {
   "cell_type": "code",
   "execution_count": 4,
   "id": "f1145ef0-1881-4f2c-890d-cfe4a10d4cc4",
   "metadata": {},
   "outputs": [],
   "source": [
    "# Using iter() keyword we can create an iterator\n",
    "\n",
    "iterator = iter(l1)\n"
   ]
  },
  {
   "cell_type": "code",
   "execution_count": 7,
   "id": "5abc9526-04c0-4767-9345-bab69c235606",
   "metadata": {},
   "outputs": [
    {
     "data": {
      "text/plain": [
       "3"
      ]
     },
     "execution_count": 7,
     "metadata": {},
     "output_type": "execute_result"
    }
   ],
   "source": [
    "# Iterate through ele only when done uses lazy loading\n",
    "next(iterator)\n",
    "# If I run it 5 times it will give ele one by one"
   ]
  },
  {
   "cell_type": "code",
   "execution_count": null,
   "id": "75a9df94-ae0f-4aec-9462-b0a2c3d0b791",
   "metadata": {},
   "outputs": [],
   "source": []
  },
  {
   "cell_type": "code",
   "execution_count": null,
   "id": "5e9de4fc-5e48-4c2d-93bd-a0abd72942d5",
   "metadata": {},
   "outputs": [],
   "source": []
  }
 ],
 "metadata": {
  "kernelspec": {
   "display_name": "Python 3 (ipykernel)",
   "language": "python",
   "name": "python3"
  },
  "language_info": {
   "codemirror_mode": {
    "name": "ipython",
    "version": 3
   },
   "file_extension": ".py",
   "mimetype": "text/x-python",
   "name": "python",
   "nbconvert_exporter": "python",
   "pygments_lexer": "ipython3",
   "version": "3.10.10"
  }
 },
 "nbformat": 4,
 "nbformat_minor": 5
}
